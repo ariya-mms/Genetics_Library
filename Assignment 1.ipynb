{
 "cells": [
  {
   "cell_type": "markdown",
   "metadata": {},
   "source": [
    "# Genetics\n",
    "In this assignment, you will implement main parts of genetic algorithms. <br>\n",
    "There is a lot of algorithms researchers use in each part and your are going to implement the famous ones. And of course there are some new ideas to implement here(the harder you work the better grade you get)!\n",
    "<br><br>\n",
    "\n",
    "### Implementations\n",
    "1. First of all, you should implement everything **only using numpy or built-in libraries**.\n",
    "2. You should only implement **functions** to do the task for each module. This means, you have to assume some predefined code and you implementd your code,using that.\n",
    "3. You can define sub functions for simplifying your task.\n",
    "3. we've provided a **sample class of chromosome** with some attributes. You can assume that this class will be parsed as the chromosome in your functions. \n",
    "4. In some of modules, **you need to change the class** to add some new attribute. To do so, you should **extend class and add new attributes** to your new implemented class.\n",
    "\n",
    "### Grading\n",
    "1. **Modules have weighted grades** so the more work you put in the more points you get.\n",
    "2. **Some modules are optional for some groups**, implementing them will have bonus points with respect to the it's weight.\n",
    "3. **Groups are categorized based on theirs skills**. So the more skilled you are the  more tasks and different points for each task you get..\n",
    "4. (optional) **Unit testing** has bonus points. If you use online CI tools like Travis CI or Azure DevOps for testing, you'll get more bonus points!!!\n",
    "\n",
    "**Note**: If you want to use unit testing in your codes, please provide high quality tests. writing low quality test is just a waste time (Go play GTA instead!)\n",
    "\n",
    "### Documentation\n",
    "1. For god's sake write something! maybe someday you have to use your own project(hopefully).\n",
    "2. You have to provide documentation for all of the function **arguments** and **return value** and of course a **simple explanation about your function** and a **numerical example** of how would your function work.\n",
    "3.Don't know how to write docs in python? OK,google it!\n",
    "\n",
    "This <a href='https://realpython.com/documenting-python-code/'>tutorial</a> may help you to write better docs.\n",
    "\n",
    "### Modules\n",
    "1. We've provided some modules for each section.\n",
    "2. Each **module will be a function** as described in **<a href='#Implementaitons'>implementation**</a> section.\n",
    "3. There is a **little description** on what each module is and some **links as reference**. You must read those links and implement modules based on algorithms provided in the references. In some modules, we've provided **a paper,related to the module**. It is your task to **study the papers and find out how to implement the modules**.\n",
    "4. Your functions should work for all type of chromosome class(flattened or not). So you have to pass a mendatory argument to determine **what type of choromosome you have**."
   ]
  },
  {
   "cell_type": "markdown",
   "metadata": {},
   "source": [
    "## What is Weighted Grades?\n",
    "Each team has a value of ('A'=high, B='normal', C='low'). And each training (sub module) also has a value same as teams. <br>\n",
    "And we decide how much points assign to each module based on some criteria.<br>\n",
    "**Each team should complete trainings equal and lower.**<br><br>\n",
    "Example:<br>\n",
    "\n",
    "modules:\n",
    "1. m1 A\n",
    "2. m2 A\n",
    "3. m3 B\n",
    "4. m4 B\n",
    "5. m5 C\n",
    "\n",
    "teams:\n",
    "1. t1 A\n",
    "2. t2 B\n",
    "3. t3 C\n",
    "\n",
    "Assigned tasks:\n",
    "1. t1 = (m1, m2, m3, m4, m5)\n",
    "2. t2 = (m3, m4, m5)\n",
    "3. t3 = (m5)\n",
    "\n",
    "\n",
    "<br>\n",
    "<font color='red'>**Note**</font>: You are allowed to use other resources but only documents and examples, **Not codes**. And you can pass those example as test to you function and check it that your function is correct or not."
   ]
  },
  {
   "cell_type": "markdown",
   "metadata": {},
   "source": [
    "## HOW TO START\n",
    "1. Fork repository using your github account. (A member of each team is enough.)\n",
    "2. Implement your tasks\n",
    "3. Push codes before deadline\n",
    "4. We will review your submitted codes\n",
    "5. To best teams, we pull their code as pull request and build other tasks top of it.\n",
    "\n",
    "<br>\n",
    "Actually task 1 to 3 should be your concern.\n",
    "<br>\n",
    "\n",
    "**Note**: If you do not have Jupyter notebook, view this notebook using your web browser though github page and implement your tasks on any IDE you want. You should do **all task in a single `.py` file and do not add your implemented codes in jupyter we provided**.<br><br> \n",
    "**Note: Because github is not private, you should not push your codes before deadline, but if you like to using Git Version Control system, use <a href='https://bitbucket.org/'>Bitbucket</a> or <a href='https://azure.microsoft.com/en-us/services/devops/'>Microsoft Azure Devops</a>. <br>\n",
    "Both of these services are free to use (lifetime) and easy to setup. So please use them, they makes your life much more easier in developing!**<br>\n",
    "And it is easy to transfer your project from this systems to github.<br>"
   ]
  },
  {
   "cell_type": "markdown",
   "metadata": {},
   "source": [
    "## F.A.Q\n",
    "#### Questions:\n",
    "Ask on Quera forum or TAs (Hamed Faraji, Mohammad Doosti Lakhani) on office days (we prefer Quera)\n",
    "#### Problems with documentation or links or etc?\n",
    "Add a issue in github page or comment on Quera forum.\n"
   ]
  },
  {
   "cell_type": "markdown",
   "metadata": {},
   "source": [
    "## Genetics\n",
    "This assignment includes these parts:\n",
    "1. Initialization (Population and Chromosome)\n",
    "2. Selection Methods\n",
    "3. Crossover Methods\n",
    "4. Mutation Methods\n",
    "\n",
    "We will describe each section later on"
   ]
  },
  {
   "cell_type": "markdown",
   "metadata": {},
   "source": [
    "## Initialization\n",
    "In this step we talk about initializing chromosomes and population.\n",
    "So here is the contents:\n",
    "1. Chromosome\n",
    "2. Population"
   ]
  },
  {
   "cell_type": "markdown",
   "metadata": {},
   "source": [
    "### Chromosome\n",
    "Here we assume that every problem can be encoded to chromosomes with 1 dimensional vector genes.<br>\n",
    "But the structure of this genes depends on the problem. We describe most famous ones here so we have 3 types of gene vectors:\n",
    "1. <font color='green'>C</font> A binary vector in which 1 represents the existence of the genes and 0 represents non-existence.<br>\n",
    "Numeric example: <br>\n",
    "```python\n",
    "genes = [0, 1, 0, 0, 0, 1, ... , 0]\n",
    "print(chromosome.genes)\n",
    "output: [0, 1, 0, 0, 0, 1, ... , 0]\n",
    "```\n",
    "\n",
    "2. <font color='green'>C</font> An integer vector of vectors which each element represents a vector of the batch of the genes with the same size. something like a flatten 2 dimensional matrix. <br>\n",
    "```python\n",
    "genes = [\n",
    "    [1,2,3],\n",
    "    [2,1,3],\n",
    "    [3,2,1],\n",
    "    [3,1,2]\n",
    "        ]\n",
    "chromosome.genes = genes.flatten()\n",
    "print(chromosome.genes)\n",
    "output: [1,2,3,2,1,3,3,2,1,3,1,2]\n",
    "```\n",
    "\n",
    "3. <font color='green'>B</font> An integer vector of vectors like state 2, but each element has different size. So this is your duty to think about the best encoding way for it.\n",
    "```python\n",
    "genes = [\n",
    "    [1,2,3,4,5],\n",
    "    [3,2,1],\n",
    "    [2,3,1,4],\n",
    "    [1]\n",
    "        ]\n",
    "chromosome.genes = genes.flatten()\n",
    "print(chromosome.genes)\n",
    "output: [1,2,3,4,5,3,2,1,2,3,1,4,1]\n",
    "```\n",
    "`lengths` is important. So we add another attribute to the `chromosome` class. <br>\n",
    "```python\n",
    "chromosome.lengths = [5,3,4,1]\n",
    "```\n",
    "So every time you want to apply any operation on these features, you have to do it with respect to `lengths`.<br>\n",
    "\n",
    "**Note: These numbers are just for demonestration purposes and in real world example, they are data points (features).**"
   ]
  },
  {
   "cell_type": "markdown",
   "metadata": {},
   "source": [
    "We've provided a class representing a simple chromosome. You need to complete all the functions with respect to this class."
   ]
  },
  {
   "cell_type": "code",
   "execution_count": 4,
   "metadata": {},
   "outputs": [],
   "source": [
    "# Just run this column, dont change seed value\n",
    "import numpy as np\n",
    "np.random.seed(75)"
   ]
  },
  {
   "cell_type": "code",
   "execution_count": 5,
   "metadata": {},
   "outputs": [],
   "source": [
    "class chromosome():\n",
    "    def __init__(self, genes, id=None, fitness=-1, flatten= False, lengths=None):\n",
    "        self.id = id\n",
    "        self.genes = genes\n",
    "        self.fitness = fitness\n",
    "        \n",
    "        # if you need more parameters for specific problem, extend this class\n",
    "    def flatten_feaures():\n",
    "        # in this function you should implement your logic to flatten features\n",
    "        pass\n",
    "    \n",
    "    \n",
    "    def describe(self):\n",
    "        print('ID=#{}, fitenss={}, \\ngenes=\\n{}'.format(self.id, self.fitness, self.genes))"
   ]
  },
  {
   "cell_type": "code",
   "execution_count": 6,
   "metadata": {
    "scrolled": true
   },
   "outputs": [
    {
     "name": "stdout",
     "output_type": "stream",
     "text": [
      "ID=#1, fitenss=125.2, \n",
      "genes=\n",
      "[1 2 3]\n",
      "ID=#2, fitenss=140, \n",
      "genes=\n",
      "[1 2 2 1]\n"
     ]
    }
   ],
   "source": [
    "# Provide some example if you want!\n",
    "c = chromosome(genes=np.array([1,2,3]),id=1,fitness = 125.2)\n",
    "c.describe()\n",
    "\n",
    "c2 = chromosome(genes = np.array([[1,2],[2,1]]).flatten(), id=2,\n",
    "                fitness=140, flatten=True)\n",
    "c2.describe()"
   ]
  },
  {
   "cell_type": "markdown",
   "metadata": {},
   "source": [
    "### Population\n",
    "In the population,chromosomes are like friends and enemies. So all operators in mutation and crossover will be applied on these chromosomes based on nature selection ideas and survival of the fittest.<br><br>\n",
    "Initialization can help  you to find global optima faster but can even get you stuck in the local optima on the other hand.Hence, it is an important part.<br>\n",
    "There are some methods to initialize population and they are hyperparameters.<br>\n",
    "Hyperparameters are \n",
    "1. Population Size\n",
    "2. Chromosome Genes\n",
    "\n",
    "The most famous one is random initialization.<br>\n",
    "\n",
    "Population initialization:\n",
    "1. Pseudo Random\n",
    "2. Quasi Random Sequence\n",
    "3. Centroid Voronoi Tessellation"
   ]
  },
  {
   "cell_type": "markdown",
   "metadata": {},
   "source": [
    "#### <font color='green'>C</font> Pseudo Random\n",
    "This is the simplest method. Actually the `random` class in every programming language is a pseudo random number. And of course you can make a uniform random using this pseudo randoms.<br>\n",
    "So in you implementation, you must use `numpy.random` to initialize population and chromosomes.<br>\n",
    "Just do everything random! If you need more information, check <a href='#More-Reading'>more reading</a> section below."
   ]
  },
  {
   "cell_type": "code",
   "execution_count": null,
   "metadata": {},
   "outputs": [],
   "source": []
  },
  {
   "cell_type": "markdown",
   "metadata": {},
   "source": [
    "#### <font color='green'>A</font> Quasi Random Sequence\n",
    "the initial population is often selected randomly using <a href='#Psuedo-Random'> pseudorandom</a> numbers.It’s usually more important that the points are as **evenly distributed** as possible than that they imitate random points. In this paper, we study the use of quasi-random sequences in the initial population of a genetic algorithm. Sample points in a **quasi-random sequence are designed to have good distribution properties**.<br><br>\n",
    "Use this <a href='https://1drv.ms/b/s!ApJ0ieVzUhjim0dcxwiJU3EQDvOO'>link</a> as reference.\n",
    "<br>"
   ]
  },
  {
   "cell_type": "code",
   "execution_count": null,
   "metadata": {},
   "outputs": [],
   "source": []
  },
  {
   "cell_type": "markdown",
   "metadata": {},
   "source": [
    "#### <font color='green'>B</font> Centroid Voronoi Tessellation\n",
    "In this method, we consider data points as clusters and will separate them based on some criteria. And then initialize random points with respect to these regions.<br><br>\n",
    "Use this <a href='https://1drv.ms/b/s!ApJ0ieVzUhjim0jXmkr282tF4Qrv'>paper</a> as reference.<br>"
   ]
  },
  {
   "cell_type": "code",
   "execution_count": null,
   "metadata": {},
   "outputs": [],
   "source": []
  },
  {
   "cell_type": "markdown",
   "metadata": {},
   "source": [
    "##### More Reading\n",
    "If you need to more about random numbers, <a href='https://pdfs.semanticscholar.org/c307/20efa68a530a25c02213ea099c74cbc8d2bb.pdf'>this</a> and <a href='https://1drv.ms/b/s!ApJ0ieVzUhjim0YSjH7n78lISHOZ'>this</a> about different methods."
   ]
  },
  {
   "cell_type": "markdown",
   "metadata": {},
   "source": [
    "## Selection\n",
    "The main purpose of selection phase is to select the fittest individuals and let them pass their genes to the next generation.\n",
    "\n",
    "These are your tasks:\n",
    "\n",
    "1. **Truncation Selection**\n",
    "2. **Tournament Selection**\n",
    "3. **Stochastic Universal Sampling**\n",
    "4. **Roulette Wheel Selection**\n",
    "5. **Roulette Wheel Selection with stochastic Acceptance**\n",
    "6. **Linear Ranking Selection**\n",
    "7. **Exponential Ranking Selection**\n",
    "8. **Self-Adaptive Tournament Selection**"
   ]
  },
  {
   "cell_type": "markdown",
   "metadata": {},
   "source": [
    "### 1. <font color='green'>B</font> Truncation Selection\n",
    "Use <a href='https://1drv.ms/b/s!ApJ0ieVzUhjimzd5SFGoAOyO7N1x'>This</a> as reference.<br>\n",
    "More reading:\n",
    "<a href='http://www.muehlenbein.org/breeder93.pdf'>Muhlenbein's Breeder Genetic Algorithm</a>."
   ]
  },
  {
   "cell_type": "code",
   "execution_count": null,
   "metadata": {},
   "outputs": [],
   "source": []
  },
  {
   "cell_type": "markdown",
   "metadata": {},
   "source": [
    "### 2. <font color='green'>C</font> Tournament Selection\n",
    "Use <a href='https://1drv.ms/b/s!ApJ0ieVzUhjimzgexRonyUszQgZQ'>this</a> as reference."
   ]
  },
  {
   "cell_type": "code",
   "execution_count": 1,
   "metadata": {},
   "outputs": [],
   "source": []
  },
  {
   "cell_type": "markdown",
   "metadata": {},
   "source": [
    "### 3. <font color='green'>C</font> Stockasting Universal Sampling\n",
    "Use <a href='https://1drv.ms/b/s!ApJ0ieVzUhjimz4N8jF3YOuiZRB3'>this</a> as reference."
   ]
  },
  {
   "cell_type": "code",
   "execution_count": null,
   "metadata": {},
   "outputs": [],
   "source": []
  },
  {
   "cell_type": "markdown",
   "metadata": {},
   "source": [
    "### 4. <font color='green'>C</font> Roulette-wheel Selection\n",
    "Use <a href='https://1drv.ms/b/s!ApJ0ieVzUhjimz-rnk7Msm7BKOMK'>this</a> as reference."
   ]
  },
  {
   "cell_type": "code",
   "execution_count": null,
   "metadata": {},
   "outputs": [],
   "source": []
  },
  {
   "cell_type": "markdown",
   "metadata": {},
   "source": [
    "### 5. <font color='green'>B</font> Roulette-wheel Selection with Stocastic Acceptance\n",
    "Use <a href='https://1drv.ms/b/s!ApJ0ieVzUhjimz-rnk7Msm7BKOMK'>this</a> as reference."
   ]
  },
  {
   "cell_type": "code",
   "execution_count": null,
   "metadata": {},
   "outputs": [],
   "source": []
  },
  {
   "cell_type": "markdown",
   "metadata": {},
   "source": [
    "### 6. <font color='green'>C</font> Linear Ranking Selection\n",
    "Use <a href='https://1drv.ms/b/s!ApJ0ieVzUhjimzbRG8A17Ycg2udK'>this</a> and <a href='https://1drv.ms/b/s!ApJ0ieVzUhjimzmCZk6isS3EFksH'>this</a> as reference."
   ]
  },
  {
   "cell_type": "code",
   "execution_count": null,
   "metadata": {},
   "outputs": [],
   "source": []
  },
  {
   "cell_type": "markdown",
   "metadata": {},
   "source": [
    "### 7. <font color='green'>B</font> Exponential Ranking Selection\n",
    "Use <a href='https://1drv.ms/b/s!ApJ0ieVzUhjimzpfBTPATw3e9ccF'>this</a> and <a href='https://1drv.ms/b/s!ApJ0ieVzUhjimzu8TjpgpnGhJ5mc'>this</a> as reference."
   ]
  },
  {
   "cell_type": "code",
   "execution_count": null,
   "metadata": {},
   "outputs": [],
   "source": []
  },
  {
   "cell_type": "markdown",
   "metadata": {},
   "source": [
    "### 8. <font color='green'>A</font> Self-Adaptive Tournament Selection\n",
    "Use <a href='https://1drv.ms/b/s!ApJ0ieVzUhjim0HgkHNKMrSe87s_'>this</a> as reference."
   ]
  },
  {
   "cell_type": "code",
   "execution_count": null,
   "metadata": {},
   "outputs": [],
   "source": []
  },
  {
   "cell_type": "markdown",
   "metadata": {},
   "source": [
    "#### More readings\n",
    "1. https://1drv.ms/b/s!ApJ0ieVzUhjim0AVEP9zJ-irxfVN\n",
    "2. http://www.geatbx.com/docu/algindex-02.html"
   ]
  },
  {
   "cell_type": "markdown",
   "metadata": {},
   "source": [
    "## Crossover\n",
    "The idea is to have better individuals at next generations. So we have to do something. Here we try to use top indviduals offsprings for next generations as parents. This help us exploit.\n",
    "\n",
    "Here is some of crossover operators:\n",
    "1. Single-point Crossover\n",
    "2. Multi-point Crossover (N-point)\n",
    "3. Uniform Crossover\n",
    "4. Flat Crossover\n",
    "5. Order Crossover (OX)\n",
    "6. Partially Mapped Crossover(PMX)\n",
    "7. Edge Recombination Crossover (ERX)\n",
    "8. Cycle Crossover (CX)\n",
    "9. Alternating Edges Crossover (AEX)\n",
    "\n",
    "**Note: You must implement each operator for 3 types of chromosome classes**. (See <a href='#Population'>Initialization</a> section)."
   ]
  },
  {
   "cell_type": "markdown",
   "metadata": {},
   "source": [
    "Reference:\n",
    "1. For 1 to 4 oeprators, use <a herf='https://1drv.ms/b/s!ApJ0ieVzUhjim0zBWnOATxVrK5oC'>this</a> link.\n",
    "2. For 5 to 9 operators use <a href='https://1drv.ms/b/s!ApJ0ieVzUhjim0tAfWp7OZVebBaO'>this</a> link."
   ]
  },
  {
   "cell_type": "markdown",
   "metadata": {},
   "source": [
    "### <font color='green'>C</font> 1. Single-Point crossover"
   ]
  },
  {
   "cell_type": "code",
   "execution_count": null,
   "metadata": {},
   "outputs": [],
   "source": []
  },
  {
   "cell_type": "markdown",
   "metadata": {},
   "source": [
    "### <font color='green'>B</font> 2. Multi-point Crossover (N-point)"
   ]
  },
  {
   "cell_type": "code",
   "execution_count": null,
   "metadata": {},
   "outputs": [],
   "source": []
  },
  {
   "cell_type": "markdown",
   "metadata": {},
   "source": [
    "### <font color='green'>C</font> 3. Uniform Crossover"
   ]
  },
  {
   "cell_type": "code",
   "execution_count": null,
   "metadata": {},
   "outputs": [],
   "source": []
  },
  {
   "cell_type": "markdown",
   "metadata": {},
   "source": [
    "### <font color='green'>C</font> 4. Flat Crossover"
   ]
  },
  {
   "cell_type": "code",
   "execution_count": null,
   "metadata": {},
   "outputs": [],
   "source": []
  },
  {
   "cell_type": "markdown",
   "metadata": {},
   "source": [
    "### <font color='green'>B</font> 5. Order Crossover (OX)"
   ]
  },
  {
   "cell_type": "code",
   "execution_count": null,
   "metadata": {},
   "outputs": [],
   "source": []
  },
  {
   "cell_type": "markdown",
   "metadata": {},
   "source": [
    "### <font color='green'>C</font> 6. Partially Mapped Crossover(PMX)"
   ]
  },
  {
   "cell_type": "code",
   "execution_count": null,
   "metadata": {},
   "outputs": [],
   "source": []
  },
  {
   "cell_type": "markdown",
   "metadata": {},
   "source": [
    "### <font color='green'>B</font> 7. Edge Recombination Crossover (ERX)"
   ]
  },
  {
   "cell_type": "code",
   "execution_count": null,
   "metadata": {},
   "outputs": [],
   "source": []
  },
  {
   "cell_type": "markdown",
   "metadata": {},
   "source": [
    "### <font color='green'>A</font> 8. Cycle Crossover (CX)"
   ]
  },
  {
   "cell_type": "code",
   "execution_count": null,
   "metadata": {},
   "outputs": [],
   "source": []
  },
  {
   "cell_type": "markdown",
   "metadata": {},
   "source": [
    "### <font color='green'>A</font> 9. Alternating Edges Crossover (AEX)"
   ]
  },
  {
   "cell_type": "code",
   "execution_count": null,
   "metadata": {},
   "outputs": [],
   "source": []
  },
  {
   "cell_type": "markdown",
   "metadata": {},
   "source": [
    "## Mutation\n",
    "The main goal of mutation phase is to change the values of genes in a chromosome randomly and introduce new genetic material into\n",
    "the population,to increase genetic diversity.\n",
    "\n",
    "These are your tasks:\n",
    "\n",
    "1. **Uniform/Random Mutation**\n",
    "2. **Inorder Mutation**\n",
    "3. **Twors Mutation**\n",
    "4. **Centre Inverse Mutation (CIM)**\n",
    "5. **Reverse Sequence Mutation (RSM)**\n",
    "6. **Throas Mutation**\n",
    "7. **Thrors Mutation**\n",
    "8. **Partial Shuffle Mutation (PSM)**\n",
    "9. **Reversal Mutation**\n",
    "10. **Distance-Based Mutation Operator (DMO)**"
   ]
  },
  {
   "cell_type": "markdown",
   "metadata": {},
   "source": [
    "Here is a reference for 9/10 of these operators <a href='https://1drv.ms/b/s!ArsLn8kTdaA1ig9o9boJtvw6HgAY'>here</a> .\n",
    "**you'll need more search of course.**"
   ]
  },
  {
   "cell_type": "markdown",
   "metadata": {},
   "source": [
    "### <font color='green'>C</font> 1. Uniform/Random Mutation"
   ]
  },
  {
   "cell_type": "code",
   "execution_count": null,
   "metadata": {},
   "outputs": [],
   "source": []
  },
  {
   "cell_type": "markdown",
   "metadata": {},
   "source": [
    "### <font color='green'>C</font> 2. Inorder Mutation"
   ]
  },
  {
   "cell_type": "code",
   "execution_count": null,
   "metadata": {},
   "outputs": [],
   "source": []
  },
  {
   "cell_type": "markdown",
   "metadata": {},
   "source": [
    "### <font color='green'>C</font> 3. Twors Mutation"
   ]
  },
  {
   "cell_type": "code",
   "execution_count": null,
   "metadata": {},
   "outputs": [],
   "source": []
  },
  {
   "cell_type": "markdown",
   "metadata": {},
   "source": [
    "### <font color='green'>B</font> 4. Centre Inverse Mutation (CIM)\n"
   ]
  },
  {
   "cell_type": "code",
   "execution_count": null,
   "metadata": {},
   "outputs": [],
   "source": []
  },
  {
   "cell_type": "markdown",
   "metadata": {},
   "source": [
    "### <font color='green'>B</font> 5. Reverse Sequence Mutation (RSM)"
   ]
  },
  {
   "cell_type": "code",
   "execution_count": null,
   "metadata": {},
   "outputs": [],
   "source": []
  },
  {
   "cell_type": "markdown",
   "metadata": {},
   "source": [
    "### <font color='green'>A</font> 6. Throas Mutation"
   ]
  },
  {
   "cell_type": "code",
   "execution_count": null,
   "metadata": {},
   "outputs": [],
   "source": []
  },
  {
   "cell_type": "markdown",
   "metadata": {},
   "source": [
    "### <font color='green'>A</font> 7. Thrors Mutation"
   ]
  },
  {
   "cell_type": "code",
   "execution_count": null,
   "metadata": {},
   "outputs": [],
   "source": []
  },
  {
   "cell_type": "markdown",
   "metadata": {},
   "source": [
    "### <font color='green'>C</font> 8. Partial Shuffle Mutation (PSM)"
   ]
  },
  {
   "cell_type": "code",
   "execution_count": null,
   "metadata": {},
   "outputs": [],
   "source": []
  },
  {
   "cell_type": "markdown",
   "metadata": {},
   "source": [
    "### <font color='green'>C</font> 9. Reversal Mutation"
   ]
  },
  {
   "cell_type": "code",
   "execution_count": null,
   "metadata": {},
   "outputs": [],
   "source": []
  },
  {
   "cell_type": "markdown",
   "metadata": {},
   "source": [
    "### <font color='green'>A</font> 10. Distance-Based Mutation Operator (DMO)\n",
    "**You can get paper** <a href='https://1drv.ms/b/s!ArsLn8kTdaA1ihAJX4daLOPEdEpZ'>here</a>."
   ]
  },
  {
   "cell_type": "code",
   "execution_count": null,
   "metadata": {},
   "outputs": [],
   "source": []
  }
 ],
 "metadata": {
  "kernelspec": {
   "display_name": "Python 3",
   "language": "python",
   "name": "python3"
  },
  "language_info": {
   "codemirror_mode": {
    "name": "ipython",
    "version": 3
   },
   "file_extension": ".py",
   "mimetype": "text/x-python",
   "name": "python",
   "nbconvert_exporter": "python",
   "pygments_lexer": "ipython3",
   "version": "3.6.6"
  }
 },
 "nbformat": 4,
 "nbformat_minor": 2
}
