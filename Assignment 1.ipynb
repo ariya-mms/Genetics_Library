{
 "cells": [
  {
   "cell_type": "markdown",
   "metadata": {},
   "source": [
    "# Assignment 1\n",
    "In this assignment, you will implement main parts of genetic algorithms. <br>\n",
    "There is a lot of algorithms researcher use in each part and your are going to implement the famous ones. And of course there are some rare ideas to implement here(we have to grade your work by hard things)!\n",
    "<br><br>\n",
    "\n",
    "### Implementaitons<br>\n",
    "1. First of all, you should implement anything **only using numpy or built-in libraries**.\n",
    "2. You should implement **just functions** to do the task for each module. This means, you have to assume some predefined code and you implementd your code with respect to that.\n",
    "3. You can define subfunctions for simplifing your task.\n",
    "3. We provided a **sample class of chromosome** with some attributes. You can imagine this class will be parsed as chromosome in your functions. \n",
    "4. In some of modules, **you need to change the class** to add some new attribute. To do so, you should **extend class and add new attributes** to your new implemented class.\n",
    "\n",
    "### Grading\n",
    "1. **Modules have weighted grades** so more work more points.\n",
    "2. **Some modules are optional for some groups**, implementing them will have bonus points with respect to the it's weight.\n",
    "3. **Groups are categorized based on theirs skills**. So more skills more tasks and different points for each tasks.\n",
    "4. (optional)**Unit testing** has bonus points. If you use online CI tools like Travis CI or Azure Devops for testing, you will have more bonus points!!!\n",
    "\n",
    "Note: If you want to use unit testing in your codes, please provide high quality tests. writing low quality tests is just wasting time (Go play GTA instead!)\n",
    "\n",
    "### Documentation\n",
    "1. For god's sake write something! maybe someday you have to use your own work(hopefully).\n",
    "2. You have to provide documentation for all of function **arguments** and **return value** and of course a **simple explanation about your function** and a **numerical example** how would your function work.\n",
    "3. You don't know how to write docs in python? ok go google it!\n",
    "\n",
    "### Modules\n",
    "1. For each section, we provided some modules.\n",
    "2. Each **module will be a function** as described in **<a href='#Implementaitons'>implementation**</a> section.\n",
    "3. There is a **little description** what is this module and some **links as reference**. You must read those links and implement modules based on algorithms provided in the reference. In some modules, we provided **a paper corresponding to module**. It is your task to **study paper and find out how to implement**. "
   ]
  },
  {
   "cell_type": "markdown",
   "metadata": {},
   "source": [
    "# Genetics\n",
    "This assignment include these parts:\n",
    "1. Initialization (Population and Chromosome)\n",
    "2. Selection Methods\n",
    "3. Mutation Methods\n",
    "\n",
    "We will describe each section"
   ]
  },
  {
   "cell_type": "code",
   "execution_count": 2,
   "metadata": {},
   "outputs": [],
   "source": []
  },
  {
   "cell_type": "markdown",
   "metadata": {},
   "source": [
    "### Initialization"
   ]
  },
  {
   "cell_type": "markdown",
   "metadata": {},
   "source": [
    "### Selection"
   ]
  },
  {
   "cell_type": "code",
   "execution_count": null,
   "metadata": {},
   "outputs": [],
   "source": []
  }
 ],
 "metadata": {
  "kernelspec": {
   "display_name": "Python 3",
   "language": "python",
   "name": "python3"
  },
  "language_info": {
   "codemirror_mode": {
    "name": "ipython",
    "version": 3
   },
   "file_extension": ".py",
   "mimetype": "text/x-python",
   "name": "python",
   "nbconvert_exporter": "python",
   "pygments_lexer": "ipython3",
   "version": "3.6.6"
  }
 },
 "nbformat": 4,
 "nbformat_minor": 2
}
