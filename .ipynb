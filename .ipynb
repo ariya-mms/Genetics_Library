{
 "cells": [
  {
   "cell_type": "markdown",
   "metadata": {},
   "source": [
    "# Genetics\n",
    "In this assignment, you will implement main parts of genetic algorithms. <br>\n",
    "There is a lot of algorithms researchers use in each part and your are going to implement the famous ones. And of course there are some rare ideas to implement here(we have to grade your work by hard things)!\n",
    "<br><br>\n",
    "\n",
    "### Implementations\n",
    "1. First of all, you should implement anything **only using numpy or built-in libraries**.\n",
    "2. You should implement **just functions** to do the task for each module. This means, you have to assume some predefined code and you implementd your code with respect to that.\n",
    "3. You can define subfunctions for simplifing your task.\n",
    "3. We provided a **sample class of chromosome** with some attributes. You can imagine this class will be parsed as chromosome in your functions. \n",
    "4. In some of modules, **you need to change the class** to add some new attribute. To do so, you should **extend class and add new attributes** to your new implemented class.\n",
    "\n",
    "### Grading\n",
    "1. **Modules have weighted grades** so more work more points.\n",
    "2. **Some modules are optional for some groups**, implementing them will have bonus points with respect to the it's weight.\n",
    "3. **Groups are categorized based on theirs skills**. So more skills more tasks and different points for each tasks.\n",
    "4. (optional) **Unit testing** has bonus points. If you use online CI tools like Travis CI or Azure Devops for testing, you will have more bonus points!!!\n",
    "\n",
    "Note: If you want to use unit testing in your codes, please provide high quality tests. writing low quality tests is just wasting time (Go play GTA instead!)\n",
    "\n",
    "### Documentation\n",
    "1. For god's sake write something! maybe someday you have to use your own work(hopefully).\n",
    "2. You have to provide documentation for all of function **arguments** and **return value** and of course a **simple explanation about your function** and a **numerical example** how would your function work.\n",
    "3. You don't know how to write docs in python? ok go google it!\n",
    "\n",
    "This <a href='https://realpython.com/documenting-python-code/'>tutorial</a> may help you to write better docs.\n",
    "\n",
    "### Modules\n",
    "1. For each section, we provided some modules.\n",
    "2. Each **module will be a function** as described in <a href='#Implementaitons'>implementation</a> section.\n",
    "3. There is a **little description** what is this module and some **links as reference**. You must read those links and implement modules based on algorithms provided in the reference. In some modules, we provided **a paper corresponding to module**. It is your task to **study paper and find out how to implement**. "
   ]
  },
  {
   "cell_type": "markdown",
   "metadata": {},
   "source": [
    "## Genetics\n",
    "This assignment include these parts:\n",
    "1. Initialization (Population and Chromosome)\n",
    "2. Selection Methods\n",
    "3. Crossover Methods\n",
    "4. Mutation Methods\n",
    "\n",
    "We will describe each section"
   ]
  },
  {
   "cell_type": "markdown",
   "metadata": {},
   "source": [
    "## Initialization\n",
    "In this step we talk about initializing chromosome and population.\n",
    "So here is the contents:\n",
    "1. Chromosome\n",
    "2. Population"
   ]
  },
  {
   "cell_type": "markdown",
   "metadata": {},
   "source": [
    "### Chromosome\n",
    "Here we assume every problem can be encoded to chromosomes with a 1 dimensional vector genes.<br>\n",
    "But the structure of this genes depends on the probelm. We assume most famous ones here so we have 3 type of gene vector:\n",
    "1. A binary vector which 1 represent existance of gene and 0 represents non-existance.<br>\n",
    "Numeric example: <br>\n",
    "```python\n",
    "genes = [0, 1, 0, 0, 0, 1, ... , 0]\n",
    "print(chromosome.genes)\n",
    "output: [0, 1, 0, 0, 0, 1, ... , 0]\n",
    "```\n",
    "\n",
    "2. A integer vector of vectors which each elemnt represent a vecotr of the batch of genes with same size. something like a flatten 2 dimensional matrix. <br>\n",
    "```python\n",
    "genes = [\n",
    "    [1,2,3],\n",
    "    [2,1,3],\n",
    "    [3,2,1],\n",
    "    [3,1,2]\n",
    "        ]\n",
    "chromosome.genes = genes.flatten()\n",
    "print(chromosome.genes)\n",
    "output: [1,2,3,2,1,3,3,2,1,3,1,2]\n",
    "```\n",
    "\n",
    "3. a integer vecotr of vectors like state 2, but each element has different size. So this is your duty to think about best encoding way of this.\n",
    "```python\n",
    "genes = [\n",
    "    [1,2,3,4,5],\n",
    "    [3,2,1],\n",
    "    [2,3,1,4],\n",
    "    [1]\n",
    "        ]\n",
    "chromosome.genes = genes.flatten()\n",
    "print(chromosome.genes)\n",
    "output: [1,2,3,4,5,3,2,1,2,3,1,4,1]\n",
    "```\n",
    "but as you, `lengths` is important. So we add another attribute to the `chromosome` class. <br>\n",
    "```python\n",
    "chromosome.lengths = [5,3,4,1]\n",
    "```\n",
    "So every time you want to apply any operation on these features, you have to do it with respect to `lengths`.<br>\n",
    "\n",
    "**Note: These numbers are just for demonestration purposes and in real world example, they are data points (features).**"
   ]
  },
  {
   "cell_type": "markdown",
   "metadata": {},
   "source": [
    "We provided a class represents a simple chromosome. You need to complete all function with respect to this class."
   ]
  },
  {
   "cell_type": "code",
   "execution_count": 5,
   "metadata": {},
   "outputs": [],
   "source": [
    "import numpy as np"
   ]
  },
  {
   "cell_type": "code",
   "execution_count": 7,
   "metadata": {},
   "outputs": [],
   "source": [
    "class chromosome():\n",
    "    def __init__(self, genes, id=None, fitness=-1, flatten= False, lengths=None):\n",
    "        self.id = id\n",
    "        self.genes = genes\n",
    "        self.fitness = fitness\n",
    "        \n",
    "        # if you need more parameters for specific problem, extend this class\n",
    "    def flatten_feaures():\n",
    "        # in this function you should implement your logic to flatten features\n",
    "        pass\n",
    "    \n",
    "    \n",
    "    def describe(self):\n",
    "        print('ID=#{}, fitenss={}, \\ngenes=\\n{}'.format(self.id, self.fitness, self.genes))"
   ]
  },
  {
   "cell_type": "code",
   "execution_count": 9,
   "metadata": {
    "scrolled": true
   },
   "outputs": [
    {
     "name": "stdout",
     "output_type": "stream",
     "text": [
      "ID=#1, fitenss=125.2, \n",
      "genes=\n",
      "[1 2 3]\n",
      "ID=#2, fitenss=140, \n",
      "genes=\n",
      "[1 2 2 1]\n"
     ]
    }
   ],
   "source": [
    "c = chromosome(genes=np.array([1,2,3]),id=1,fitness = 125.2)\n",
    "c.describe()\n",
    "\n",
    "c2 = chromosome(genes = np.array([[1,2],[2,1]]).flatten(), id=2,\n",
    "                fitness=140, flatten=True)\n",
    "c2.describe()"
   ]
  },
  {
   "cell_type": "markdown",
   "metadata": {},
   "source": [
    "### Population\n",
    "Population is the chromosomes as friends and enemies. So all operators in mutation and crossover will be applied on these chromosomes based on nature selection idea and survival the fittest.<br><br>\n",
    "Initialization can help to find global optima faster or even stuck in local optima. So it is an important part.<br>\n",
    "There are some methods to initialize population and it's hyperparameters.<br>\n",
    "Hyperparameters are \n",
    "1. Population Size\n",
    "2. Chromosome Genes\n",
    "\n",
    "The most famous one is random initialization.<br>\n",
    "\n",
    "Population initialization:\n",
    "1. Pseudo Random\n",
    "2. Quasi Random Sequence\n",
    "3. Centroid Voronoi Tessellation"
   ]
  },
  {
   "cell_type": "markdown",
   "metadata": {},
   "source": [
    "#### Psuedo Random\n",
    "This is the simplest method. Actually the `random` class in every programming language is a psuedo random number. And of course make a uniform random using this psuedo randoms.<br>\n",
    "So in you implementation, you must use `numpy.random` to initialize population and chromosomes.<br>\n",
    "Just do everything random! If you need more information, check <a href='#More-Reading'>more reading</a> section below."
   ]
  },
  {
   "cell_type": "code",
   "execution_count": null,
   "metadata": {},
   "outputs": [],
   "source": []
  },
  {
   "cell_type": "markdown",
   "metadata": {},
   "source": [
    "#### Quasi Random Sequence\n",
    "the initial population is often selected randomly using <a href='#Psuedo-Random'> pseudorandom</a> numbers. Usually, however, it is more important that the points are as **evenly distributed** as possible than that they imitate random points. In this paper, we study the use of quasi-random sequences in the initial population of a genetic algorithm. Sample points in a **quasi-random sequence are designed to have good distribution properties**.<br><br>\n",
    "Use this <a href='https://1drv.ms/b/s!ApJ0ieVzUhjim0dcxwiJU3EQDvOO'>link</a> as reference.\n",
    "<br>"
   ]
  },
  {
   "cell_type": "code",
   "execution_count": null,
   "metadata": {},
   "outputs": [],
   "source": []
  },
  {
   "cell_type": "markdown",
   "metadata": {},
   "source": [
    "#### Centroid Voronoi Tessellation\n",
    "In this method, we assume data points as clusters and separate them based on some criteria. And then initialize random points with respect to these regions.<br><br>\n",
    "Use this <a href='https://1drv.ms/b/s!ApJ0ieVzUhjim0jXmkr282tF4Qrv'>paper</a> as reference.<br>"
   ]
  },
  {
   "cell_type": "code",
   "execution_count": null,
   "metadata": {},
   "outputs": [],
   "source": []
  },
  {
   "cell_type": "markdown",
   "metadata": {},
   "source": [
    "##### More Reading\n",
    "If you need to more about random numbers, <a href='https://pdfs.semanticscholar.org/c307/20efa68a530a25c02213ea099c74cbc8d2bb.pdf'>this</a> and <a href='https://1drv.ms/b/s!ApJ0ieVzUhjim0YSjH7n78lISHOZ'>this</a> about different methods."
   ]
  },
  {
   "cell_type": "markdown",
   "metadata": {},
   "source": [
    "## Selection\n",
    "The idea of selection phase is to select the fittest individuals and let them pass their genes to the next generation.\n",
    "\n",
    "These are your tasks:\n",
    "\n",
    "1. **Truncation Selection**\n",
    "2. **Tournament Selection**\n",
    "3. **Stockasting Universal Sampling**\n",
    "4. **Roulette Wheel Selection**\n",
    "5. **Roulette Wheel Selection with Stocastic Acceptance**\n",
    "6. **Linear Ranking Selection**\n",
    "7. **Exponential Ranking Selection**\n",
    "8. **Self-Adaptive Tournament Selection**"
   ]
  },
  {
   "cell_type": "markdown",
   "metadata": {},
   "source": [
    "### 1. Truncation Selection\n",
    "Use <a href='https://1drv.ms/b/s!ApJ0ieVzUhjimzd5SFGoAOyO7N1x'>This</a> as reference.<br>\n",
    "More reading:\n",
    "<a href='http://www.muehlenbein.org/breeder93.pdf'>Muhlenbein's Breeder Genetic Algorithm</a>."
   ]
  },
  {
   "cell_type": "code",
   "execution_count": null,
   "metadata": {},
   "outputs": [],
   "source": []
  },
  {
   "cell_type": "markdown",
   "metadata": {},
   "source": [
    "### 2. Tournament Selection\n",
    "Use <a href='https://1drv.ms/b/s!ApJ0ieVzUhjimzgexRonyUszQgZQ'>this</a> as reference."
   ]
  },
  {
   "cell_type": "code",
   "execution_count": 1,
   "metadata": {},
   "outputs": [],
   "source": []
  },
  {
   "cell_type": "markdown",
   "metadata": {},
   "source": [
    "### 3. Stockasting Universal Sampling\n",
    "Use <a href='https://1drv.ms/b/s!ApJ0ieVzUhjimz4N8jF3YOuiZRB3'>this</a> as reference."
   ]
  },
  {
   "cell_type": "code",
   "execution_count": null,
   "metadata": {},
   "outputs": [],
   "source": []
  },
  {
   "cell_type": "markdown",
   "metadata": {},
   "source": [
    "### 4. Roulette-wheel Selection\n",
    "Use <a href='https://1drv.ms/b/s!ApJ0ieVzUhjimz-rnk7Msm7BKOMK'>this</a> as reference."
   ]
  },
  {
   "cell_type": "code",
   "execution_count": null,
   "metadata": {},
   "outputs": [],
   "source": []
  },
  {
   "cell_type": "markdown",
   "metadata": {},
   "source": [
    "### 5. Roulette-wheel Selection with Stocastic Acceptance\n",
    "Use <a href='https://1drv.ms/b/s!ApJ0ieVzUhjimz-rnk7Msm7BKOMK'>this</a> as reference."
   ]
  },
  {
   "cell_type": "code",
   "execution_count": null,
   "metadata": {},
   "outputs": [],
   "source": []
  },
  {
   "cell_type": "markdown",
   "metadata": {},
   "source": [
    "### 6. Linear Ranking Selection\n",
    "Use <a href='https://1drv.ms/b/s!ApJ0ieVzUhjimzbRG8A17Ycg2udK'>this</a> and <a href='https://1drv.ms/b/s!ApJ0ieVzUhjimzmCZk6isS3EFksH'>this</a> as reference."
   ]
  },
  {
   "cell_type": "code",
   "execution_count": null,
   "metadata": {},
   "outputs": [],
   "source": []
  },
  {
   "cell_type": "markdown",
   "metadata": {},
   "source": [
    "### 7. Exponential Ranking Selection\n",
    "Use <a href='https://1drv.ms/b/s!ApJ0ieVzUhjimzpfBTPATw3e9ccF'>this</a> and <a href='https://1drv.ms/b/s!ApJ0ieVzUhjimzu8TjpgpnGhJ5mc'>this</a> as reference."
   ]
  },
  {
   "cell_type": "code",
   "execution_count": null,
   "metadata": {},
   "outputs": [],
   "source": []
  },
  {
   "cell_type": "markdown",
   "metadata": {},
   "source": [
    "### 8. Self-Adaptive Tournament Selection\n",
    "Use <a href='https://1drv.ms/b/s!ApJ0ieVzUhjim0HgkHNKMrSe87s_'>this</a> as reference."
   ]
  },
  {
   "cell_type": "code",
   "execution_count": null,
   "metadata": {},
   "outputs": [],
   "source": []
  },
  {
   "cell_type": "markdown",
   "metadata": {},
   "source": [
    "#### More readings\n",
    "1. https://1drv.ms/b/s!ApJ0ieVzUhjim0AVEP9zJ-irxfVN\n",
    "2. http://www.geatbx.com/docu/algindex-02.html"
   ]
  },
  {
   "cell_type": "markdown",
   "metadata": {},
   "source": [
    "## Crossover\n",
    "The idea is to have better individuals at next generations. So we have to do something. Here we try to use top indviduals offsprings for next generations as parents. This help us exploit.\n",
    "\n",
    "Here is some of crossover operators:\n",
    "1. Single-point Crossover\n",
    "2. Multi-point Crossover (N-point)\n",
    "3. Uniform Crossover\n",
    "4. Flat Crossover\n",
    "5. Order Crossover (OX)\n",
    "6. Partially Mapped Crossover(PMX)\n",
    "7. Edge Recombination Crossover (ERX)\n",
    "8. Cycle Crossover (CX)\n",
    "9. Alternating Edges Crossover (AEX)\n",
    "\n",
    "**Note: You must implement each operator for 3 type of chromosome class**. (See <a href='#Population'>Initialization</a> section)."
   ]
  },
  {
   "cell_type": "markdown",
   "metadata": {},
   "source": [
    "Reference:\n",
    "1. For 1 to 4 oeprators, use <a herf='https://1drv.ms/b/s!ApJ0ieVzUhjim0zBWnOATxVrK5oC'>this</a> link.\n",
    "2. For 5 to 9 operators use <a href='https://1drv.ms/b/s!ApJ0ieVzUhjim0tAfWp7OZVebBaO'>this</a> link."
   ]
  },
  {
   "cell_type": "markdown",
   "metadata": {},
   "source": [
    "### 1. Single-Point crossover"
   ]
  },
  {
   "cell_type": "code",
   "execution_count": null,
   "metadata": {},
   "outputs": [],
   "source": []
  },
  {
   "cell_type": "markdown",
   "metadata": {},
   "source": [
    "### 2. Multi-point Crossover (N-point)"
   ]
  },
  {
   "cell_type": "code",
   "execution_count": null,
   "metadata": {},
   "outputs": [],
   "source": []
  },
  {
   "cell_type": "markdown",
   "metadata": {},
   "source": [
    "### 3. Uniform Crossover"
   ]
  },
  {
   "cell_type": "code",
   "execution_count": null,
   "metadata": {},
   "outputs": [],
   "source": []
  },
  {
   "cell_type": "markdown",
   "metadata": {},
   "source": [
    "### 4. Flat Crossover"
   ]
  },
  {
   "cell_type": "code",
   "execution_count": null,
   "metadata": {},
   "outputs": [],
   "source": []
  },
  {
   "cell_type": "markdown",
   "metadata": {},
   "source": [
    "### 5. Order Crossover (OX)"
   ]
  },
  {
   "cell_type": "code",
   "execution_count": null,
   "metadata": {},
   "outputs": [],
   "source": []
  },
  {
   "cell_type": "markdown",
   "metadata": {},
   "source": [
    "### 6. Partially Mapped Crossover(PMX)"
   ]
  },
  {
   "cell_type": "code",
   "execution_count": null,
   "metadata": {},
   "outputs": [],
   "source": []
  },
  {
   "cell_type": "markdown",
   "metadata": {},
   "source": [
    "### 7. Edge Recombination Crossover (ERX)"
   ]
  },
  {
   "cell_type": "code",
   "execution_count": null,
   "metadata": {},
   "outputs": [],
   "source": []
  },
  {
   "cell_type": "markdown",
   "metadata": {},
   "source": [
    "### 8. Cycle Crossover (CX)"
   ]
  },
  {
   "cell_type": "code",
   "execution_count": null,
   "metadata": {},
   "outputs": [],
   "source": []
  },
  {
   "cell_type": "markdown",
   "metadata": {},
   "source": [
    "### 9. Alternating Edges Crossover (AEX)"
   ]
  },
  {
   "cell_type": "code",
   "execution_count": null,
   "metadata": {},
   "outputs": [],
   "source": []
  },
  {
   "cell_type": "markdown",
   "metadata": {},
   "source": [
    "## Mutation\n",
    "The idea of mutation phase is to change the values of genes in a chromosome randomly and introduce new genetic material into\n",
    "the population, thereby increasing genetic diversity.\n",
    "\n",
    "These are your tasks:\n",
    "\n",
    "1. **Uniform/Random Mutation**\n",
    "2. **Inorder Mutation**\n",
    "3. **Twors Mutation**\n",
    "4. **Centre inverse mutation (CIM)**\n",
    "5. **Reverse Sequence Mutation (RSM)**\n",
    "6. **Throas Mutation**\n",
    "7. **Thrors Mutation**\n",
    "8. **Partial Shuffle Mutation (PSM)**\n",
    "9. **Reversal mutation**\n",
    "10. **Distance-Based Mutation Operator (DMO)**\n",
    "11. **gaussian mutation**\n",
    "12. **Swap Mutation**\n",
    "13. **Scramble Mutation**"
   ]
  },
  {
   "cell_type": "markdown",
   "metadata": {},
   "source": [
    "Here is a reference for 9/13 of these operators <a href='https://1drv.ms/b/s!ArsLn8kTdaA1ig9o9boJtvw6HgAY'>here</a>."
   ]
  },
  {
   "cell_type": "markdown",
   "metadata": {},
   "source": [
    "### 1. Uniform/Random Mutation"
   ]
  },
  {
   "cell_type": "code",
   "execution_count": null,
   "metadata": {},
   "outputs": [],
   "source": []
  },
  {
   "cell_type": "markdown",
   "metadata": {},
   "source": [
    "### 2. Inorder Mutation"
   ]
  },
  {
   "cell_type": "code",
   "execution_count": null,
   "metadata": {},
   "outputs": [],
   "source": []
  },
  {
   "cell_type": "markdown",
   "metadata": {},
   "source": [
    "### 3. Twors Mutation"
   ]
  },
  {
   "cell_type": "code",
   "execution_count": null,
   "metadata": {},
   "outputs": [],
   "source": []
  },
  {
   "cell_type": "markdown",
   "metadata": {},
   "source": [
    "### 4. Centre Inverse Mutation (CIM)\n"
   ]
  },
  {
   "cell_type": "code",
   "execution_count": null,
   "metadata": {},
   "outputs": [],
   "source": []
  },
  {
   "cell_type": "markdown",
   "metadata": {},
   "source": [
    "### 5. Reverse Sequence Mutation (RSM)"
   ]
  },
  {
   "cell_type": "code",
   "execution_count": null,
   "metadata": {},
   "outputs": [],
   "source": []
  },
  {
   "cell_type": "markdown",
   "metadata": {},
   "source": [
    "### 6. Throas Mutation"
   ]
  },
  {
   "cell_type": "code",
   "execution_count": null,
   "metadata": {},
   "outputs": [],
   "source": []
  },
  {
   "cell_type": "markdown",
   "metadata": {},
   "source": [
    "### 7. Thrors Mutation"
   ]
  },
  {
   "cell_type": "code",
   "execution_count": null,
   "metadata": {},
   "outputs": [],
   "source": []
  },
  {
   "cell_type": "markdown",
   "metadata": {},
   "source": [
    "### 8. Partial Shuffle Mutation (PSM)"
   ]
  },
  {
   "cell_type": "code",
   "execution_count": null,
   "metadata": {},
   "outputs": [],
   "source": []
  },
  {
   "cell_type": "markdown",
   "metadata": {},
   "source": [
    "### 9. Reversal mutation"
   ]
  },
  {
   "cell_type": "code",
   "execution_count": null,
   "metadata": {},
   "outputs": [],
   "source": []
  },
  {
   "cell_type": "markdown",
   "metadata": {},
   "source": [
    "### 10. Distance-Based Mutation Operator (DMO)\n",
    "You can get paper <a href='https://1drv.ms/b/s!ArsLn8kTdaA1ihAJX4daLOPEdEpZ'>here</a>."
   ]
  },
  {
   "cell_type": "code",
   "execution_count": null,
   "metadata": {},
   "outputs": [],
   "source": []
  },
  {
   "cell_type": "markdown",
   "metadata": {},
   "source": [
    "### 11. Gaussian Mutation"
   ]
  },
  {
   "cell_type": "code",
   "execution_count": null,
   "metadata": {},
   "outputs": [],
   "source": []
  },
  {
   "cell_type": "markdown",
   "metadata": {},
   "source": [
    "### 12. Swap Mutation\n",
    "Use <a href='https://www.tutorialspoint.com/genetic_algorithms/genetic_algorithms_mutation.htm'>this</a> as reference."
   ]
  },
  {
   "cell_type": "code",
   "execution_count": null,
   "metadata": {},
   "outputs": [],
   "source": []
  },
  {
   "cell_type": "markdown",
   "metadata": {},
   "source": [
    "### 13. Scramble Mutation\n",
    "Same reference as above."
   ]
  },
  {
   "cell_type": "code",
   "execution_count": null,
   "metadata": {},
   "outputs": [],
   "source": []
  }
 ],
 "metadata": {
  "kernelspec": {
   "display_name": "Python 3",
   "language": "python",
   "name": "python3"
  },
  "language_info": {
   "codemirror_mode": {
    "name": "ipython",
    "version": 3
   },
   "file_extension": ".py",
   "mimetype": "text/x-python",
   "name": "python",
   "nbconvert_exporter": "python",
   "pygments_lexer": "ipython3",
   "version": "3.6.6"
  }
 },
 "nbformat": 4,
 "nbformat_minor": 2
}
